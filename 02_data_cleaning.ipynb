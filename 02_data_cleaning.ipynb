{
 "cells": [
  {
   "cell_type": "code",
   "execution_count": null,
   "id": "db0e9ccf-bf30-4c56-bcd0-a7e1c1e786e0",
   "metadata": {},
   "outputs": [],
   "source": [
    "import numpy as np\n",
    "import pandas as pd\n",
    "import matplotlib.pyplot as plt"
   ]
  },
  {
   "cell_type": "code",
   "execution_count": null,
   "id": "c81f6e81-2c40-4214-82ed-e9af72d4cb2f",
   "metadata": {},
   "outputs": [],
   "source": [
    "mvp_df = pd.read_csv('data/mvp_df.csv')"
   ]
  },
  {
   "cell_type": "code",
   "execution_count": null,
   "id": "e6e86fec-bf3a-44e4-9b60-3b7206f5055a",
   "metadata": {},
   "outputs": [],
   "source": [
    "mvp_df.head()"
   ]
  },
  {
   "cell_type": "code",
   "execution_count": null,
   "id": "7c8e1031-17df-46cb-8151-72569da754b8",
   "metadata": {},
   "outputs": [],
   "source": [
    "mvp_votes_df = mvp_df[['Player', 'Year','Pts Won', 'Pts Max', \"Share\"]]"
   ]
  },
  {
   "cell_type": "code",
   "execution_count": null,
   "id": "b86f31e6-8566-4572-afda-56f0e3403d7d",
   "metadata": {},
   "outputs": [],
   "source": [
    "mvp_votes_df.head()"
   ]
  },
  {
   "cell_type": "code",
   "execution_count": null,
   "id": "8ce8c3e5-68fe-4db5-8924-6b49c986f8b4",
   "metadata": {},
   "outputs": [],
   "source": [
    "players_df = pd.read_csv('data/players.csv')"
   ]
  },
  {
   "cell_type": "code",
   "execution_count": null,
   "id": "cebc1592-154b-4737-8b6e-dbbdab5fa907",
   "metadata": {},
   "outputs": [],
   "source": [
    "players_df.head()"
   ]
  },
  {
   "cell_type": "code",
   "execution_count": null,
   "id": "f10c653a-ac8b-4a16-a373-647894892d8e",
   "metadata": {},
   "outputs": [],
   "source": [
    "players_df.drop(columns='Rk', inplace= True)"
   ]
  },
  {
   "cell_type": "code",
   "execution_count": null,
   "id": "e83cb39b-0bc6-4dc7-abf7-bd2523ce4d3b",
   "metadata": {},
   "outputs": [],
   "source": [
    "players_df.head(2)"
   ]
  },
  {
   "cell_type": "code",
   "execution_count": null,
   "id": "61e62f98-02ca-49ef-ba18-9a236959891e",
   "metadata": {},
   "outputs": [],
   "source": [
    "players_df['Player'].head(25)"
   ]
  },
  {
   "cell_type": "code",
   "execution_count": null,
   "id": "4c4f1c87-6515-453b-bb64-e880eea96a88",
   "metadata": {},
   "outputs": [],
   "source": [
    "players_df[\"Player\"] = players_df['Player'].str.replace(\"*\",\"\", regex = False)"
   ]
  },
  {
   "cell_type": "code",
   "execution_count": null,
   "id": "da31005e-7b50-4dda-858d-11c19f1850d9",
   "metadata": {},
   "outputs": [],
   "source": [
    "players_df.head(30)"
   ]
  },
  {
   "cell_type": "code",
   "execution_count": null,
   "id": "fb9abe50-b8ec-46ac-8bdf-19b619399b2c",
   "metadata": {},
   "outputs": [],
   "source": [
    "players_df.groupby([\"Player\",\"Year\"])"
   ]
  },
  {
   "cell_type": "code",
   "execution_count": null,
   "id": "8dd107d4-b2e6-46f6-9436-72e0ae0aeff8",
   "metadata": {},
   "outputs": [],
   "source": [
    "def single_row(df):\n",
    "    if df.shape[0]==1:\n",
    "        return df\n",
    "    else:\n",
    "        row = df[df[\"Tm\"]==\"TOT\"]\n",
    "        row[\"Tm\"] = df.iloc[-1,:][\"Tm\"]\n",
    "        return row"
   ]
  },
  {
   "cell_type": "code",
   "execution_count": null,
   "id": "9ac32b6f-70b0-41a1-b1b5-d2c83df11365",
   "metadata": {},
   "outputs": [],
   "source": [
    "players_single_row = players_df.groupby([\"Player\",\"Year\"]).apply(single_row)"
   ]
  },
  {
   "cell_type": "code",
   "execution_count": null,
   "id": "91a4d08b-7317-4a75-85ce-1fe22adbc47b",
   "metadata": {},
   "outputs": [],
   "source": [
    "players_single_row.head()"
   ]
  },
  {
   "cell_type": "code",
   "execution_count": null,
   "id": "a2e2f80d-6402-4d5d-896d-43d92148deae",
   "metadata": {},
   "outputs": [],
   "source": [
    "players_single_row.index = players_single_row.index.droplevel()\n",
    "players_single_row.index = players_single_row.index.droplevel()"
   ]
  },
  {
   "cell_type": "code",
   "execution_count": null,
   "id": "050b4218-3b48-46d7-9aa1-5c695144f21c",
   "metadata": {},
   "outputs": [],
   "source": [
    "players_single_row[players_single_row[\"Player\"] == \"Greg Anderson\"]"
   ]
  },
  {
   "cell_type": "code",
   "execution_count": null,
   "id": "aea43205-6fc2-4d98-a5a1-a6184fb507f2",
   "metadata": {},
   "outputs": [],
   "source": [
    "combined_players = players_single_row.merge(mvp_votes_df, how = \"outer\", on = [\"Player\",\"Year\"])"
   ]
  },
  {
   "cell_type": "code",
   "execution_count": null,
   "id": "cc28051c-983e-4803-87b7-a634fc3b56e5",
   "metadata": {},
   "outputs": [],
   "source": [
    "combined_players.head()"
   ]
  },
  {
   "cell_type": "code",
   "execution_count": null,
   "id": "8f8c872b-6b2a-464d-aca2-8f148f345927",
   "metadata": {},
   "outputs": [],
   "source": [
    "combined_players[combined_players['Share']> .41]"
   ]
  },
  {
   "cell_type": "code",
   "execution_count": 27,
   "id": "d1c9df3e-0e86-4957-ba6f-0ffcdfce194f",
   "metadata": {},
   "outputs": [],
   "source": [
    "combined_players[[\"Pts Won\", \"Pts Max\",\"Share\"]] = combined_players[[\"Pts Won\", \"Pts Max\",\"Share\"]].fillna(0)"
   ]
  },
  {
   "cell_type": "code",
   "execution_count": 28,
   "id": "f495be8e-a6cc-4e6d-ab36-6f76560f329e",
   "metadata": {},
   "outputs": [
    {
     "data": {
      "text/html": [
       "<div>\n",
       "<style scoped>\n",
       "    .dataframe tbody tr th:only-of-type {\n",
       "        vertical-align: middle;\n",
       "    }\n",
       "\n",
       "    .dataframe tbody tr th {\n",
       "        vertical-align: top;\n",
       "    }\n",
       "\n",
       "    .dataframe thead th {\n",
       "        text-align: right;\n",
       "    }\n",
       "</style>\n",
       "<table border=\"1\" class=\"dataframe\">\n",
       "  <thead>\n",
       "    <tr style=\"text-align: right;\">\n",
       "      <th></th>\n",
       "      <th>Player</th>\n",
       "      <th>Pos</th>\n",
       "      <th>Age</th>\n",
       "      <th>Tm</th>\n",
       "      <th>G</th>\n",
       "      <th>GS</th>\n",
       "      <th>MP</th>\n",
       "      <th>FG</th>\n",
       "      <th>FGA</th>\n",
       "      <th>FG%</th>\n",
       "      <th>...</th>\n",
       "      <th>AST</th>\n",
       "      <th>STL</th>\n",
       "      <th>BLK</th>\n",
       "      <th>TOV</th>\n",
       "      <th>PF</th>\n",
       "      <th>PTS</th>\n",
       "      <th>Year</th>\n",
       "      <th>Pts Won</th>\n",
       "      <th>Pts Max</th>\n",
       "      <th>Share</th>\n",
       "    </tr>\n",
       "  </thead>\n",
       "  <tbody>\n",
       "  </tbody>\n",
       "</table>\n",
       "<p>0 rows × 33 columns</p>\n",
       "</div>"
      ],
      "text/plain": [
       "Empty DataFrame\n",
       "Columns: [Player, Pos, Age, Tm, G, GS, MP, FG, FGA, FG%, 3P, 3PA, 3P%, 2P, 2PA, 2P%, eFG%, FT, FTA, FT%, ORB, DRB, TRB, AST, STL, BLK, TOV, PF, PTS, Year, Pts Won, Pts Max, Share]\n",
       "Index: []\n",
       "\n",
       "[0 rows x 33 columns]"
      ]
     },
     "execution_count": 28,
     "metadata": {},
     "output_type": "execute_result"
    }
   ],
   "source": [
    "combined_players[combined_players[\"Pts Won\"]>0]"
   ]
  },
  {
   "cell_type": "code",
   "execution_count": null,
   "id": "36418329-844e-4aef-a6ef-8e78e53466c4",
   "metadata": {},
   "outputs": [],
   "source": []
  }
 ],
 "metadata": {
  "kernelspec": {
   "display_name": "Python 3 (ipykernel)",
   "language": "python",
   "name": "python3"
  },
  "language_info": {
   "codemirror_mode": {
    "name": "ipython",
    "version": 3
   },
   "file_extension": ".py",
   "mimetype": "text/x-python",
   "name": "python",
   "nbconvert_exporter": "python",
   "pygments_lexer": "ipython3",
   "version": "3.8.13"
  }
 },
 "nbformat": 4,
 "nbformat_minor": 5
}
