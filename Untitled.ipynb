{
 "cells": [
  {
   "cell_type": "code",
   "execution_count": 1,
   "id": "c97e56a5-c09b-4f99-858e-1862ca2125a3",
   "metadata": {},
   "outputs": [],
   "source": [
    "import pandas as pd\n",
    "import numpy as np\n",
    "import matplotlib.pyplot as plt"
   ]
  },
  {
   "cell_type": "code",
   "execution_count": 14,
   "id": "129efc19-04a8-4e87-abab-a65235956795",
   "metadata": {},
   "outputs": [],
   "source": [
    "pd.set_option('display.max_columns',50)"
   ]
  },
  {
   "cell_type": "code",
   "execution_count": 3,
   "id": "008bbbef-a98e-4da1-926c-e3472e979fe2",
   "metadata": {},
   "outputs": [],
   "source": [
    "stats = pd.read_csv(\"data/player_mvp_stats.csv\")"
   ]
  },
  {
   "cell_type": "code",
   "execution_count": 5,
   "id": "a992dda9-c87e-493d-96f6-047aadadd30e",
   "metadata": {},
   "outputs": [
    {
     "data": {
      "text/plain": [
       "(17960, 41)"
      ]
     },
     "execution_count": 5,
     "metadata": {},
     "output_type": "execute_result"
    }
   ],
   "source": [
    "stats.shape"
   ]
  },
  {
   "cell_type": "code",
   "execution_count": 11,
   "id": "b4916e0b-aaf4-4322-8423-ac9cd4aedaf1",
   "metadata": {},
   "outputs": [
    {
     "data": {
      "text/plain": [
       "Player        0\n",
       "Pos           1\n",
       "Age           1\n",
       "Tm            1\n",
       "G             1\n",
       "GS          281\n",
       "MP            1\n",
       "FG            1\n",
       "FGA           1\n",
       "FG%          64\n",
       "3P            1\n",
       "3PA           1\n",
       "3P%        2681\n",
       "2P            1\n",
       "2PA           1\n",
       "2P%         107\n",
       "eFG%         64\n",
       "FT            1\n",
       "FTA           1\n",
       "FT%         582\n",
       "ORB           1\n",
       "DRB           1\n",
       "TRB           1\n",
       "AST           1\n",
       "STL           1\n",
       "BLK           1\n",
       "TOV           1\n",
       "PF            1\n",
       "PTS           1\n",
       "Year          0\n",
       "Pts Won       0\n",
       "Pts Max       0\n",
       "Share         0\n",
       "Team          1\n",
       "W             1\n",
       "L             1\n",
       "W/L%          1\n",
       "GB            1\n",
       "PS/G          1\n",
       "PA/G          1\n",
       "SRS           1\n",
       "dtype: int64"
      ]
     },
     "execution_count": 11,
     "metadata": {},
     "output_type": "execute_result"
    }
   ],
   "source": [
    "stats.isnull().sum()"
   ]
  },
  {
   "cell_type": "code",
   "execution_count": 16,
   "id": "b372e718-4626-423d-8f91-1a25a7ed4edf",
   "metadata": {},
   "outputs": [
    {
     "data": {
      "text/html": [
       "<div>\n",
       "<style scoped>\n",
       "    .dataframe tbody tr th:only-of-type {\n",
       "        vertical-align: middle;\n",
       "    }\n",
       "\n",
       "    .dataframe tbody tr th {\n",
       "        vertical-align: top;\n",
       "    }\n",
       "\n",
       "    .dataframe thead th {\n",
       "        text-align: right;\n",
       "    }\n",
       "</style>\n",
       "<table border=\"1\" class=\"dataframe\">\n",
       "  <thead>\n",
       "    <tr style=\"text-align: right;\">\n",
       "      <th></th>\n",
       "      <th>Player</th>\n",
       "      <th>3PA</th>\n",
       "      <th>3P%</th>\n",
       "    </tr>\n",
       "  </thead>\n",
       "  <tbody>\n",
       "    <tr>\n",
       "      <th>3</th>\n",
       "      <td>Jerome Henderson</td>\n",
       "      <td>0.0</td>\n",
       "      <td>NaN</td>\n",
       "    </tr>\n",
       "    <tr>\n",
       "      <th>5</th>\n",
       "      <td>Kurt Rambis</td>\n",
       "      <td>0.0</td>\n",
       "      <td>NaN</td>\n",
       "    </tr>\n",
       "    <tr>\n",
       "      <th>12</th>\n",
       "      <td>Pétur Guðmundsson</td>\n",
       "      <td>0.0</td>\n",
       "      <td>NaN</td>\n",
       "    </tr>\n",
       "    <tr>\n",
       "      <th>20</th>\n",
       "      <td>Kurt Rambis</td>\n",
       "      <td>0.0</td>\n",
       "      <td>NaN</td>\n",
       "    </tr>\n",
       "    <tr>\n",
       "      <th>23</th>\n",
       "      <td>Mike Smrek</td>\n",
       "      <td>0.0</td>\n",
       "      <td>NaN</td>\n",
       "    </tr>\n",
       "    <tr>\n",
       "      <th>...</th>\n",
       "      <td>...</td>\n",
       "      <td>...</td>\n",
       "      <td>...</td>\n",
       "    </tr>\n",
       "    <tr>\n",
       "      <th>17933</th>\n",
       "      <td>Kenny Dennard</td>\n",
       "      <td>0.0</td>\n",
       "      <td>NaN</td>\n",
       "    </tr>\n",
       "    <tr>\n",
       "      <th>17936</th>\n",
       "      <td>Leon Douglas</td>\n",
       "      <td>0.0</td>\n",
       "      <td>NaN</td>\n",
       "    </tr>\n",
       "    <tr>\n",
       "      <th>17940</th>\n",
       "      <td>Reggie King</td>\n",
       "      <td>0.0</td>\n",
       "      <td>NaN</td>\n",
       "    </tr>\n",
       "    <tr>\n",
       "      <th>17941</th>\n",
       "      <td>Steve Johnson</td>\n",
       "      <td>0.0</td>\n",
       "      <td>NaN</td>\n",
       "    </tr>\n",
       "    <tr>\n",
       "      <th>17959</th>\n",
       "      <td>George Johnson</td>\n",
       "      <td>NaN</td>\n",
       "      <td>NaN</td>\n",
       "    </tr>\n",
       "  </tbody>\n",
       "</table>\n",
       "<p>2681 rows × 3 columns</p>\n",
       "</div>"
      ],
      "text/plain": [
       "                  Player  3PA  3P%\n",
       "3       Jerome Henderson  0.0  NaN\n",
       "5            Kurt Rambis  0.0  NaN\n",
       "12     Pétur Guðmundsson  0.0  NaN\n",
       "20           Kurt Rambis  0.0  NaN\n",
       "23            Mike Smrek  0.0  NaN\n",
       "...                  ...  ...  ...\n",
       "17933      Kenny Dennard  0.0  NaN\n",
       "17936       Leon Douglas  0.0  NaN\n",
       "17940        Reggie King  0.0  NaN\n",
       "17941      Steve Johnson  0.0  NaN\n",
       "17959     George Johnson  NaN  NaN\n",
       "\n",
       "[2681 rows x 3 columns]"
      ]
     },
     "execution_count": 16,
     "metadata": {},
     "output_type": "execute_result"
    }
   ],
   "source": [
    "stats[stats[\"3P%\"].isnull()][[\"Player\",\"3PA\",\"3P%\"]]"
   ]
  },
  {
   "cell_type": "code",
   "execution_count": 17,
   "id": "fa71b00a-f225-4472-ae2a-9f5e5fe351d5",
   "metadata": {},
   "outputs": [
    {
     "data": {
      "text/html": [
       "<div>\n",
       "<style scoped>\n",
       "    .dataframe tbody tr th:only-of-type {\n",
       "        vertical-align: middle;\n",
       "    }\n",
       "\n",
       "    .dataframe tbody tr th {\n",
       "        vertical-align: top;\n",
       "    }\n",
       "\n",
       "    .dataframe thead th {\n",
       "        text-align: right;\n",
       "    }\n",
       "</style>\n",
       "<table border=\"1\" class=\"dataframe\">\n",
       "  <thead>\n",
       "    <tr style=\"text-align: right;\">\n",
       "      <th></th>\n",
       "      <th>Player</th>\n",
       "      <th>FTA</th>\n",
       "      <th>FT%</th>\n",
       "    </tr>\n",
       "  </thead>\n",
       "  <tbody>\n",
       "    <tr>\n",
       "      <th>3</th>\n",
       "      <td>Jerome Henderson</td>\n",
       "      <td>0.0</td>\n",
       "      <td>NaN</td>\n",
       "    </tr>\n",
       "    <tr>\n",
       "      <th>144</th>\n",
       "      <td>John Coker</td>\n",
       "      <td>0.0</td>\n",
       "      <td>NaN</td>\n",
       "    </tr>\n",
       "    <tr>\n",
       "      <th>159</th>\n",
       "      <td>Jason Sasser</td>\n",
       "      <td>0.0</td>\n",
       "      <td>NaN</td>\n",
       "    </tr>\n",
       "    <tr>\n",
       "      <th>170</th>\n",
       "      <td>Adrian Caldwell</td>\n",
       "      <td>0.0</td>\n",
       "      <td>NaN</td>\n",
       "    </tr>\n",
       "    <tr>\n",
       "      <th>186</th>\n",
       "      <td>Bruno Šundov</td>\n",
       "      <td>0.0</td>\n",
       "      <td>NaN</td>\n",
       "    </tr>\n",
       "    <tr>\n",
       "      <th>...</th>\n",
       "      <td>...</td>\n",
       "      <td>...</td>\n",
       "      <td>...</td>\n",
       "    </tr>\n",
       "    <tr>\n",
       "      <th>17806</th>\n",
       "      <td>Luke Zeller</td>\n",
       "      <td>0.0</td>\n",
       "      <td>NaN</td>\n",
       "    </tr>\n",
       "    <tr>\n",
       "      <th>17859</th>\n",
       "      <td>Myron Brown</td>\n",
       "      <td>0.0</td>\n",
       "      <td>NaN</td>\n",
       "    </tr>\n",
       "    <tr>\n",
       "      <th>17881</th>\n",
       "      <td>Malcolm Lee</td>\n",
       "      <td>0.0</td>\n",
       "      <td>NaN</td>\n",
       "    </tr>\n",
       "    <tr>\n",
       "      <th>17955</th>\n",
       "      <td>Steve Novak</td>\n",
       "      <td>0.0</td>\n",
       "      <td>NaN</td>\n",
       "    </tr>\n",
       "    <tr>\n",
       "      <th>17959</th>\n",
       "      <td>George Johnson</td>\n",
       "      <td>NaN</td>\n",
       "      <td>NaN</td>\n",
       "    </tr>\n",
       "  </tbody>\n",
       "</table>\n",
       "<p>582 rows × 3 columns</p>\n",
       "</div>"
      ],
      "text/plain": [
       "                 Player  FTA  FT%\n",
       "3      Jerome Henderson  0.0  NaN\n",
       "144          John Coker  0.0  NaN\n",
       "159        Jason Sasser  0.0  NaN\n",
       "170     Adrian Caldwell  0.0  NaN\n",
       "186        Bruno Šundov  0.0  NaN\n",
       "...                 ...  ...  ...\n",
       "17806       Luke Zeller  0.0  NaN\n",
       "17859       Myron Brown  0.0  NaN\n",
       "17881       Malcolm Lee  0.0  NaN\n",
       "17955       Steve Novak  0.0  NaN\n",
       "17959    George Johnson  NaN  NaN\n",
       "\n",
       "[582 rows x 3 columns]"
      ]
     },
     "execution_count": 17,
     "metadata": {},
     "output_type": "execute_result"
    }
   ],
   "source": [
    "stats[stats[\"FT%\"].isnull()][[\"Player\",\"FTA\",\"FT%\"]]"
   ]
  },
  {
   "cell_type": "code",
   "execution_count": 18,
   "id": "fd0737d7-adf7-4883-a289-d419dacbc85f",
   "metadata": {},
   "outputs": [],
   "source": [
    "stats.fillna(0, inplace = True)"
   ]
  },
  {
   "cell_type": "code",
   "execution_count": 19,
   "id": "a2d08249-0986-456c-8401-0f0a39b6e11f",
   "metadata": {},
   "outputs": [
    {
     "data": {
      "text/plain": [
       "Index(['Player', 'Pos', 'Age', 'Tm', 'G', 'GS', 'MP', 'FG', 'FGA', 'FG%', '3P',\n",
       "       '3PA', '3P%', '2P', '2PA', '2P%', 'eFG%', 'FT', 'FTA', 'FT%', 'ORB',\n",
       "       'DRB', 'TRB', 'AST', 'STL', 'BLK', 'TOV', 'PF', 'PTS', 'Year',\n",
       "       'Pts Won', 'Pts Max', 'Share', 'Team', 'W', 'L', 'W/L%', 'GB', 'PS/G',\n",
       "       'PA/G', 'SRS'],\n",
       "      dtype='object')"
      ]
     },
     "execution_count": 19,
     "metadata": {},
     "output_type": "execute_result"
    }
   ],
   "source": [
    "stats.columns"
   ]
  },
  {
   "cell_type": "code",
   "execution_count": 28,
   "id": "20c915a8-ea71-4f6e-8c72-23b64b59e89e",
   "metadata": {},
   "outputs": [],
   "source": [
    "features = ['Age', 'G', 'GS', 'MP', 'FG', 'FGA', 'FG%', '3P',\n",
    "       '3PA', '3P%', '2P', '2PA', '2P%', 'eFG%', 'FT', 'FTA', 'FT%', 'ORB',\n",
    "       'DRB', 'TRB', 'AST', 'STL', 'BLK', 'TOV', 'PF', 'PTS', 'Year',\n",
    "            'W', 'L', 'W/L%', 'GB', 'PS/G','PA/G', 'SRS']"
   ]
  },
  {
   "cell_type": "markdown",
   "id": "6db70c62-1002-4c16-9081-40258353558a",
   "metadata": {},
   "source": [
    "## Train test split"
   ]
  },
  {
   "cell_type": "code",
   "execution_count": 40,
   "id": "7c06c589-dc52-4afe-b649-dcd2783cec02",
   "metadata": {},
   "outputs": [],
   "source": [
    "train = stats[stats[\"Year\"]<2022]\n",
    "test = stats[stats[\"Year\"] == 2022]"
   ]
  },
  {
   "cell_type": "code",
   "execution_count": 41,
   "id": "d47736f8-aae2-41c8-9ca3-b34abb7afa9a",
   "metadata": {},
   "outputs": [],
   "source": [
    "from sklearn.linear_model import Ridge, Lasso, LinearRegression"
   ]
  },
  {
   "cell_type": "code",
   "execution_count": 42,
   "id": "512bd6dc-94d1-4c15-bc9b-d342b93452c2",
   "metadata": {},
   "outputs": [],
   "source": [
    "ridge = Ridge(alpha = .1)"
   ]
  },
  {
   "cell_type": "code",
   "execution_count": 43,
   "id": "35c1a457-db76-4471-877b-b19482d9f3b0",
   "metadata": {},
   "outputs": [
    {
     "data": {
      "text/plain": [
       "Ridge(alpha=0.1)"
      ]
     },
     "execution_count": 43,
     "metadata": {},
     "output_type": "execute_result"
    }
   ],
   "source": [
    "ridge.fit(train[features], train[\"Share\"])"
   ]
  },
  {
   "cell_type": "code",
   "execution_count": 44,
   "id": "404efc14-8fc6-4238-897d-a361acc24aac",
   "metadata": {},
   "outputs": [],
   "source": [
    "preds = ridge.predict(test[features])"
   ]
  },
  {
   "cell_type": "code",
   "execution_count": 45,
   "id": "610d059f-e287-488f-b233-399237e8697a",
   "metadata": {},
   "outputs": [],
   "source": [
    "preds = pd.DataFrame(preds, columns = [\"predictions\"], index = test.index)"
   ]
  },
  {
   "cell_type": "code",
   "execution_count": 46,
   "id": "5cadecef-b48b-47f2-a9f4-2920ed124c3b",
   "metadata": {},
   "outputs": [
    {
     "data": {
      "text/html": [
       "<div>\n",
       "<style scoped>\n",
       "    .dataframe tbody tr th:only-of-type {\n",
       "        vertical-align: middle;\n",
       "    }\n",
       "\n",
       "    .dataframe tbody tr th {\n",
       "        vertical-align: top;\n",
       "    }\n",
       "\n",
       "    .dataframe thead th {\n",
       "        text-align: right;\n",
       "    }\n",
       "</style>\n",
       "<table border=\"1\" class=\"dataframe\">\n",
       "  <thead>\n",
       "    <tr style=\"text-align: right;\">\n",
       "      <th></th>\n",
       "      <th>predictions</th>\n",
       "    </tr>\n",
       "  </thead>\n",
       "  <tbody>\n",
       "    <tr>\n",
       "      <th>715</th>\n",
       "      <td>0.010259</td>\n",
       "    </tr>\n",
       "    <tr>\n",
       "      <th>716</th>\n",
       "      <td>-0.032661</td>\n",
       "    </tr>\n",
       "    <tr>\n",
       "      <th>717</th>\n",
       "      <td>-0.005822</td>\n",
       "    </tr>\n",
       "    <tr>\n",
       "      <th>718</th>\n",
       "      <td>0.018560</td>\n",
       "    </tr>\n",
       "    <tr>\n",
       "      <th>719</th>\n",
       "      <td>-0.007688</td>\n",
       "    </tr>\n",
       "    <tr>\n",
       "      <th>...</th>\n",
       "      <td>...</td>\n",
       "    </tr>\n",
       "    <tr>\n",
       "      <th>15131</th>\n",
       "      <td>-0.017143</td>\n",
       "    </tr>\n",
       "    <tr>\n",
       "      <th>15132</th>\n",
       "      <td>-0.010045</td>\n",
       "    </tr>\n",
       "    <tr>\n",
       "      <th>15133</th>\n",
       "      <td>0.006152</td>\n",
       "    </tr>\n",
       "    <tr>\n",
       "      <th>15134</th>\n",
       "      <td>0.004272</td>\n",
       "    </tr>\n",
       "    <tr>\n",
       "      <th>15135</th>\n",
       "      <td>-0.061725</td>\n",
       "    </tr>\n",
       "  </tbody>\n",
       "</table>\n",
       "<p>605 rows × 1 columns</p>\n",
       "</div>"
      ],
      "text/plain": [
       "       predictions\n",
       "715       0.010259\n",
       "716      -0.032661\n",
       "717      -0.005822\n",
       "718       0.018560\n",
       "719      -0.007688\n",
       "...            ...\n",
       "15131    -0.017143\n",
       "15132    -0.010045\n",
       "15133     0.006152\n",
       "15134     0.004272\n",
       "15135    -0.061725\n",
       "\n",
       "[605 rows x 1 columns]"
      ]
     },
     "execution_count": 46,
     "metadata": {},
     "output_type": "execute_result"
    }
   ],
   "source": [
    "preds"
   ]
  },
  {
   "cell_type": "code",
   "execution_count": 47,
   "id": "d86b9371-44f9-4385-a2e7-c52565ba9dcf",
   "metadata": {},
   "outputs": [],
   "source": [
    "combine = pd.concat([test[[\"Player\",\"Share\"]], preds], axis =1)"
   ]
  },
  {
   "cell_type": "code",
   "execution_count": 48,
   "id": "7eab22e7-dc9a-421a-bb26-3692e3fd5ae1",
   "metadata": {},
   "outputs": [
    {
     "data": {
      "text/html": [
       "<div>\n",
       "<style scoped>\n",
       "    .dataframe tbody tr th:only-of-type {\n",
       "        vertical-align: middle;\n",
       "    }\n",
       "\n",
       "    .dataframe tbody tr th {\n",
       "        vertical-align: top;\n",
       "    }\n",
       "\n",
       "    .dataframe thead th {\n",
       "        text-align: right;\n",
       "    }\n",
       "</style>\n",
       "<table border=\"1\" class=\"dataframe\">\n",
       "  <thead>\n",
       "    <tr style=\"text-align: right;\">\n",
       "      <th></th>\n",
       "      <th>Player</th>\n",
       "      <th>Share</th>\n",
       "      <th>predictions</th>\n",
       "    </tr>\n",
       "  </thead>\n",
       "  <tbody>\n",
       "    <tr>\n",
       "      <th>715</th>\n",
       "      <td>Aaron Gordon</td>\n",
       "      <td>0.0</td>\n",
       "      <td>0.010259</td>\n",
       "    </tr>\n",
       "    <tr>\n",
       "      <th>716</th>\n",
       "      <td>Austin Rivers</td>\n",
       "      <td>0.0</td>\n",
       "      <td>-0.032661</td>\n",
       "    </tr>\n",
       "    <tr>\n",
       "      <th>717</th>\n",
       "      <td>Bol Bol</td>\n",
       "      <td>0.0</td>\n",
       "      <td>-0.005822</td>\n",
       "    </tr>\n",
       "    <tr>\n",
       "      <th>718</th>\n",
       "      <td>Bones Hyland</td>\n",
       "      <td>0.0</td>\n",
       "      <td>0.018560</td>\n",
       "    </tr>\n",
       "    <tr>\n",
       "      <th>719</th>\n",
       "      <td>Bryn Forbes</td>\n",
       "      <td>0.0</td>\n",
       "      <td>-0.007688</td>\n",
       "    </tr>\n",
       "    <tr>\n",
       "      <th>...</th>\n",
       "      <td>...</td>\n",
       "      <td>...</td>\n",
       "      <td>...</td>\n",
       "    </tr>\n",
       "    <tr>\n",
       "      <th>15131</th>\n",
       "      <td>Micah Potter</td>\n",
       "      <td>0.0</td>\n",
       "      <td>-0.017143</td>\n",
       "    </tr>\n",
       "    <tr>\n",
       "      <th>15132</th>\n",
       "      <td>Rodney McGruder</td>\n",
       "      <td>0.0</td>\n",
       "      <td>-0.010045</td>\n",
       "    </tr>\n",
       "    <tr>\n",
       "      <th>15133</th>\n",
       "      <td>Saben Lee</td>\n",
       "      <td>0.0</td>\n",
       "      <td>0.006152</td>\n",
       "    </tr>\n",
       "    <tr>\n",
       "      <th>15134</th>\n",
       "      <td>Saddiq Bey</td>\n",
       "      <td>0.0</td>\n",
       "      <td>0.004272</td>\n",
       "    </tr>\n",
       "    <tr>\n",
       "      <th>15135</th>\n",
       "      <td>Trayvon Palmer</td>\n",
       "      <td>0.0</td>\n",
       "      <td>-0.061725</td>\n",
       "    </tr>\n",
       "  </tbody>\n",
       "</table>\n",
       "<p>605 rows × 3 columns</p>\n",
       "</div>"
      ],
      "text/plain": [
       "                Player  Share  predictions\n",
       "715       Aaron Gordon    0.0     0.010259\n",
       "716      Austin Rivers    0.0    -0.032661\n",
       "717            Bol Bol    0.0    -0.005822\n",
       "718       Bones Hyland    0.0     0.018560\n",
       "719        Bryn Forbes    0.0    -0.007688\n",
       "...                ...    ...          ...\n",
       "15131     Micah Potter    0.0    -0.017143\n",
       "15132  Rodney McGruder    0.0    -0.010045\n",
       "15133        Saben Lee    0.0     0.006152\n",
       "15134       Saddiq Bey    0.0     0.004272\n",
       "15135   Trayvon Palmer    0.0    -0.061725\n",
       "\n",
       "[605 rows x 3 columns]"
      ]
     },
     "execution_count": 48,
     "metadata": {},
     "output_type": "execute_result"
    }
   ],
   "source": [
    "combine"
   ]
  },
  {
   "cell_type": "code",
   "execution_count": 49,
   "id": "1b3affe8-22ff-4374-bca3-f321d97a43e8",
   "metadata": {},
   "outputs": [
    {
     "data": {
      "text/html": [
       "<div>\n",
       "<style scoped>\n",
       "    .dataframe tbody tr th:only-of-type {\n",
       "        vertical-align: middle;\n",
       "    }\n",
       "\n",
       "    .dataframe tbody tr th {\n",
       "        vertical-align: top;\n",
       "    }\n",
       "\n",
       "    .dataframe thead th {\n",
       "        text-align: right;\n",
       "    }\n",
       "</style>\n",
       "<table border=\"1\" class=\"dataframe\">\n",
       "  <thead>\n",
       "    <tr style=\"text-align: right;\">\n",
       "      <th></th>\n",
       "      <th>Player</th>\n",
       "      <th>Share</th>\n",
       "      <th>predictions</th>\n",
       "    </tr>\n",
       "  </thead>\n",
       "  <tbody>\n",
       "    <tr>\n",
       "      <th>730</th>\n",
       "      <td>Nikola Jokić</td>\n",
       "      <td>0.875</td>\n",
       "      <td>0.206990</td>\n",
       "    </tr>\n",
       "    <tr>\n",
       "      <th>904</th>\n",
       "      <td>Joel Embiid</td>\n",
       "      <td>0.706</td>\n",
       "      <td>0.200762</td>\n",
       "    </tr>\n",
       "    <tr>\n",
       "      <th>14225</th>\n",
       "      <td>Giannis Antetokounmpo</td>\n",
       "      <td>0.595</td>\n",
       "      <td>0.220464</td>\n",
       "    </tr>\n",
       "    <tr>\n",
       "      <th>974</th>\n",
       "      <td>Devin Booker</td>\n",
       "      <td>0.216</td>\n",
       "      <td>0.093271</td>\n",
       "    </tr>\n",
       "    <tr>\n",
       "      <th>14016</th>\n",
       "      <td>Luka Dončić</td>\n",
       "      <td>0.146</td>\n",
       "      <td>0.163840</td>\n",
       "    </tr>\n",
       "    <tr>\n",
       "      <th>1246</th>\n",
       "      <td>Jayson Tatum</td>\n",
       "      <td>0.043</td>\n",
       "      <td>0.101878</td>\n",
       "    </tr>\n",
       "    <tr>\n",
       "      <th>14849</th>\n",
       "      <td>Ja Morant</td>\n",
       "      <td>0.010</td>\n",
       "      <td>0.119053</td>\n",
       "    </tr>\n",
       "    <tr>\n",
       "      <th>7524</th>\n",
       "      <td>Stephen Curry</td>\n",
       "      <td>0.004</td>\n",
       "      <td>0.101192</td>\n",
       "    </tr>\n",
       "    <tr>\n",
       "      <th>972</th>\n",
       "      <td>Chris Paul</td>\n",
       "      <td>0.002</td>\n",
       "      <td>0.085617</td>\n",
       "    </tr>\n",
       "    <tr>\n",
       "      <th>9573</th>\n",
       "      <td>LeBron James</td>\n",
       "      <td>0.001</td>\n",
       "      <td>0.159404</td>\n",
       "    </tr>\n",
       "  </tbody>\n",
       "</table>\n",
       "</div>"
      ],
      "text/plain": [
       "                      Player  Share  predictions\n",
       "730             Nikola Jokić  0.875     0.206990\n",
       "904              Joel Embiid  0.706     0.200762\n",
       "14225  Giannis Antetokounmpo  0.595     0.220464\n",
       "974             Devin Booker  0.216     0.093271\n",
       "14016            Luka Dončić  0.146     0.163840\n",
       "1246            Jayson Tatum  0.043     0.101878\n",
       "14849              Ja Morant  0.010     0.119053\n",
       "7524           Stephen Curry  0.004     0.101192\n",
       "972               Chris Paul  0.002     0.085617\n",
       "9573            LeBron James  0.001     0.159404"
      ]
     },
     "execution_count": 49,
     "metadata": {},
     "output_type": "execute_result"
    }
   ],
   "source": [
    "combine.sort_values(\"Share\", ascending = False).head(10)"
   ]
  },
  {
   "cell_type": "code",
   "execution_count": 52,
   "id": "e657b2c2-38b7-4cca-b9b8-fdb33e08902f",
   "metadata": {},
   "outputs": [],
   "source": [
    "from sklearn.metrics import mean_squared_error, r2_score"
   ]
  },
  {
   "cell_type": "code",
   "execution_count": 51,
   "id": "94a7b72c-4d6c-44d7-9715-7304fc643e5c",
   "metadata": {},
   "outputs": [
    {
     "data": {
      "text/plain": [
       "0.0022517571502095454"
      ]
     },
     "execution_count": 51,
     "metadata": {},
     "output_type": "execute_result"
    }
   ],
   "source": [
    "mean_squared_error(combine[\"Share\"],combine[\"predictions\"])"
   ]
  },
  {
   "cell_type": "code",
   "execution_count": 53,
   "id": "afa7a3f5-a0d6-4259-bf3c-c0f231042f8e",
   "metadata": {},
   "outputs": [
    {
     "data": {
      "text/plain": [
       "0.000    593\n",
       "0.001      3\n",
       "0.875      1\n",
       "0.706      1\n",
       "0.002      1\n",
       "0.216      1\n",
       "0.043      1\n",
       "0.004      1\n",
       "0.146      1\n",
       "0.595      1\n",
       "0.010      1\n",
       "Name: Share, dtype: int64"
      ]
     },
     "execution_count": 53,
     "metadata": {},
     "output_type": "execute_result"
    }
   ],
   "source": [
    "combine[\"Share\"].value_counts()"
   ]
  },
  {
   "cell_type": "code",
   "execution_count": null,
   "id": "6beec0f2-b3f8-430b-994e-aeefcbe93283",
   "metadata": {},
   "outputs": [],
   "source": []
  }
 ],
 "metadata": {
  "kernelspec": {
   "display_name": "Python 3 (ipykernel)",
   "language": "python",
   "name": "python3"
  },
  "language_info": {
   "codemirror_mode": {
    "name": "ipython",
    "version": 3
   },
   "file_extension": ".py",
   "mimetype": "text/x-python",
   "name": "python",
   "nbconvert_exporter": "python",
   "pygments_lexer": "ipython3",
   "version": "3.8.13"
  }
 },
 "nbformat": 4,
 "nbformat_minor": 5
}
